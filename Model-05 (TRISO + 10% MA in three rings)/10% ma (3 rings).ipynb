{
 "cells": [
  {
   "cell_type": "code",
   "execution_count": 1,
   "id": "45cddfcd",
   "metadata": {},
   "outputs": [],
   "source": [
    "%matplotlib inline\n",
    "import openmc\n",
    "import matplotlib.pyplot as plt\n",
    "import numpy as np"
   ]
  },
  {
   "cell_type": "code",
   "execution_count": 2,
   "id": "ee3535d6",
   "metadata": {},
   "outputs": [],
   "source": [
    "# Materials definition\n",
    "\n",
    "fuel = openmc.Material(name='Fuel Kernel') #tpcu\n",
    "fuel.add_nuclide('U235', 0.155)\n",
    "fuel.add_nuclide('U238', 0.845)\n",
    "fuel.add_element('C', 0.5)\n",
    "fuel.add_element('O', 1.5)\n",
    "fuel.set_density('g/cm3', 10.5)\n",
    "fuel.temperature = 1200\n",
    "\n",
    "\n",
    "buffer = openmc.Material(name='Buffer Layer')\n",
    "buffer.add_element('C', 1.0)\n",
    "buffer.set_density('g/cm3', 1)\n",
    "buffer.add_s_alpha_beta('c_Graphite')\n",
    "buffer.temperature = 1200\n",
    "\n",
    "IPyC = openmc.Material(name='Inner PyC Layer')\n",
    "IPyC.add_element('C', 1.0)\n",
    "IPyC.set_density('g/cm3', 1.9)\n",
    "IPyC.add_s_alpha_beta('c_Graphite')\n",
    "IPyC.temperature = 1200\n",
    "\n",
    "SiC = openmc.Material(name = \"SiC Layer\")\n",
    "SiC.add_element(\"Si\", 1)\n",
    "SiC.add_element(\"C\", 1)\n",
    "SiC.set_density(\"g/cm3\", 3.2)\n",
    "SiC.temperature = 1200\n",
    "\n",
    "OPyC = openmc.Material(name='Outer PyC Layer')\n",
    "OPyC.add_element('C', 1.0)\n",
    "OPyC.set_density('g/cm3', 1.9)\n",
    "OPyC.add_s_alpha_beta('c_Graphite') \n",
    "OPyC.temperature = 1200\n",
    "\n",
    "graphite = openmc.Material(name='Graphite')\n",
    "graphite.add_element('C', 1.0)\n",
    "graphite.set_density('g/cm3', 1.85)\n",
    "graphite.add_s_alpha_beta('c_Graphite')\n",
    "graphite.temperature = 800\n",
    "\n",
    "\n",
    "helium = openmc.Material(name='Helium')\n",
    "helium.add_element('He', 1.0)\n",
    "helium.set_density('g/cm3', 0.0051)\n",
    "helium.temperature = 900\n",
    "\n",
    "\n",
    "b4c = openmc.Material(name='B4C Poison')\n",
    "b4c.add_element('B', 4.0, enrichment=19.8, enrichment_target='B10', enrichment_type='wo')\n",
    "b4c.add_element('C', 1.0)\n",
    "b4c.set_density('g/cm3', 2.52)\n",
    "b4c.temperature = 1200\n",
    "\n",
    "\n",
    "\n",
    "\n",
    "\n",
    "\n",
    "MA = openmc.Material()\n",
    "MA.add_nuclide('Np237', 0.562, 'wo')\n",
    "MA.add_nuclide('Am241', 0.264, 'wo')\n",
    "MA.add_nuclide('Am243', 0.12, 'wo')\n",
    "MA.add_nuclide('Cm243', 0.0003, 'wo')\n",
    "MA.add_nuclide('Cm244', 0.0511, 'wo')\n",
    "MA.add_nuclide('Cm245', 0.0026, 'wo')\n",
    "MA.set_density('g/cm3', 15.43)\n",
    "MA.temperature = 1200\n",
    "\n",
    "# 5% minor actinide mix with kernel\n",
    "MA_mix = openmc.Material.mix_materials([fuel,MA],[0.90, 0.1], 'wo')\n",
    "MA_mix.temperature = 1200\n",
    "\n",
    "\n",
    "\n",
    "\n",
    "\n",
    "\n",
    "\n",
    "\n",
    "# Instantiate a Materials collection and export to xml\n",
    "materials_list = [fuel, buffer, IPyC, SiC, OPyC, graphite, helium,\n",
    "                  b4c,MA, MA_mix]\n",
    "materials_file = openmc.Materials(materials_list)\n",
    "materials_file.export_to_xml()\n",
    "\n",
    "\n",
    "\n",
    "\n",
    "\n"
   ]
  },
  {
   "cell_type": "code",
   "execution_count": 3,
   "id": "b5037c77",
   "metadata": {},
   "outputs": [],
   "source": [
    "# Geometry definitions for TRISO particles\n",
    "\n",
    "kernelsph = openmc.Sphere(r=0.02125)\n",
    "buffsph = openmc.Sphere(r=0.03125)\n",
    "IPyCsph = openmc.Sphere(r=0.03475)\n",
    "SiCsph = openmc.Sphere(r=0.03825)\n",
    "OPyCsph = openmc.Sphere(r=0.04225)\n",
    "\n",
    "layers = [kernelsph, buffsph, IPyCsph, SiCsph, OPyCsph]\n",
    "triso_mats = [fuel, buffer, IPyC, SiC, OPyC]\n",
    "triso_cells = []\n",
    "for i in range(5):\n",
    "  if (i == 0):\n",
    "    triso_cells.append(openmc.Cell(fill=triso_mats[0], region=-layers[0]))\n",
    "  else:\n",
    "    triso_cells.append(openmc.Cell(fill=triso_mats[i], region=+layers[i-1] & -layers[i]))\n",
    "\n",
    "triso_universe = openmc.Universe(cells=triso_cells)\n",
    "# triso_colors = {triso_cells[0]: (238,44,44), triso_cells[1]: (173,255,47), \n",
    "#                 triso_cells[2]: (32,178,170), triso_cells[3]: (75,0,130), \n",
    "#                 triso_cells[4]: (32,178,170)}\n",
    "#triso_universe.plot(width = (0.1, 0.1), colors = triso_colors)\n",
    "\n"
   ]
  },
  {
   "cell_type": "code",
   "execution_count": 4,
   "id": "95f95bf6",
   "metadata": {},
   "outputs": [],
   "source": [
    "# Generating TRISO particle lattice in cylindrical pin cell\n",
    "\n",
    "cylsurf = openmc.ZCylinder(r=0.6225)\n",
    "maxz = openmc.ZPlane(z0=(79.3/2), boundary_type='reflective')\n",
    "minz = openmc.ZPlane(z0=-(79.3/2), boundary_type='reflective')\n",
    "\n",
    "lattice_region = -cylsurf & -maxz & +minz\n",
    "triso_outer_radius = 0.04225\n",
    "spheres = openmc.model.pack_spheres(radius=triso_outer_radius, region=lattice_region, pf=0.30)\n",
    "\n",
    "\n",
    "\n",
    "triso_particles = [openmc.model.TRISO(triso_outer_radius, fill=triso_universe, center=c) for c in spheres]\n",
    "\n",
    "\n",
    "vol_triso = 4/3 * 3.14 * triso_outer_radius**3 * len(triso_particles)\n",
    "\n",
    "\n",
    "\n",
    "\n",
    "lattice_cell = openmc.Cell(region=lattice_region)\n",
    "lower_left, upp_right = lattice_cell.region.bounding_box\n",
    "shape = (4, 4, 4)\n",
    "pitch = (upp_right - lower_left)/shape\n",
    "triso_latt = openmc.model.create_triso_lattice(triso_particles, lower_left, pitch, shape, graphite)\n",
    "lattice_cell.fill = triso_latt\n",
    "\n",
    "lattice_universe = openmc.Universe(cells=[lattice_cell])\n",
    "\n",
    "\n",
    "#lattice_universe.plot(width=(1.8, 1.8), color_by='material', colors = {graphite: (97, 97, 97),fuel: (238, 59, 59)})\n",
    "\n"
   ]
  },
  {
   "cell_type": "code",
   "execution_count": 5,
   "id": "c8d6460c",
   "metadata": {},
   "outputs": [],
   "source": [
    "# Geometry definitions for Quadriso fuel MA_mix particles\n",
    "\n",
    "\n",
    "\n",
    "kernelsph = openmc.Sphere(r=0.02125)\n",
    "buffsph = openmc.Sphere(r=0.03125)\n",
    "IPyCsph = openmc.Sphere(r=0.03475)\n",
    "SiCsph = openmc.Sphere(r=0.03825)\n",
    "OPyCsph = openmc.Sphere(r=0.04225)\n",
    "\n",
    "layers = [kernelsph, buffsph, IPyCsph, SiCsph, OPyCsph]\n",
    "quadriso_mats = [MA_mix, buffer, IPyC, SiC, OPyC]\n",
    "quadriso_cells = []\n",
    "for i in range(5):\n",
    "  if (i == 0):\n",
    "    quadriso_cells.append(openmc.Cell(fill=quadriso_mats[0], region=-layers[0]))\n",
    "  else:\n",
    "    quadriso_cells.append(openmc.Cell(fill=quadriso_mats[i], region=+layers[i-1] & -layers[i]))\n",
    "\n",
    "quadriso_universe = openmc.Universe(cells=quadriso_cells)\n",
    "# quadriso_colors = {quadriso_cells[0]: 'green', quadriso_cells[1]: 'blue', \n",
    "#                 quadriso_cells[2]: 'red', quadriso_cells[3]: 'cyan', \n",
    "#                 quadriso_cells[4]: 'red'}\n",
    "# quadriso_universe.plot(width = (0.1, 0.1), colors = quadriso_colors)"
   ]
  },
  {
   "cell_type": "code",
   "execution_count": 6,
   "id": "4450972f",
   "metadata": {},
   "outputs": [],
   "source": [
    "# Generating quadRISO MA_mix particle lattice in cylindrical pin cell\n",
    "\n",
    "cylsurf1 = openmc.ZCylinder(r=0.6225)\n",
    "maxz = openmc.ZPlane(z0=(79.3/2), boundary_type='reflective')\n",
    "minz = openmc.ZPlane(z0=-(79.3/2), boundary_type='reflective')\n",
    "\n",
    "lattice_region4 = -cylsurf1 & -maxz & +minz\n",
    "quadriso_outer_radius = 0.04225\n",
    "spheres = openmc.model.pack_spheres(radius=quadriso_outer_radius, region=lattice_region4, pf=0.3)\n",
    "\n",
    "\n",
    "\n",
    "quadriso_particles = [openmc.model.TRISO(quadriso_outer_radius, fill=quadriso_universe, center=c) for c in spheres]\n",
    "\n",
    "\n",
    "vol_quadriso = 4/3 * 3.14 * quadriso_outer_radius**3 * len(quadriso_particles)\n",
    "\n",
    "\n",
    "\n",
    "\n",
    "lattice_cell4 = openmc.Cell(region=lattice_region4)\n",
    "lower_left, upp_right = lattice_cell4.region.bounding_box\n",
    "shape = (4, 4, 4)\n",
    "pitch = (upp_right - lower_left)/shape\n",
    "quadriso_latt = openmc.model.create_triso_lattice(quadriso_particles, lower_left, pitch, shape, graphite)\n",
    "lattice_cell4.fill = quadriso_latt\n",
    "\n",
    "lattice_universe = openmc.Universe(cells=[lattice_cell4])\n",
    "\n",
    "\n",
    "# lattice_universe.plot(width=(1.8, 1.8), color_by='material')"
   ]
  },
  {
   "cell_type": "code",
   "execution_count": 7,
   "id": "28833457",
   "metadata": {},
   "outputs": [],
   "source": [
    "# Creating coolant cells\n",
    "small_coolant_surf = openmc.ZCylinder(r=0.635)\n",
    "big_coolant_surf = openmc.ZCylinder(r=0.794)\n",
    "\n",
    "small_coolant_cell = openmc.Cell(region=-small_coolant_surf & -maxz & +minz, fill=helium)\n",
    "big_coolant_cell = openmc.Cell(region=-big_coolant_surf & -maxz & +minz, fill=helium)\n",
    "\n",
    "outside_small_cell = openmc.Cell(region=+small_coolant_surf & -maxz & +minz, fill=graphite)\n",
    "outside_big_cell = openmc.Cell(region=+big_coolant_surf & -maxz & +minz, fill=graphite)\n",
    "\n",
    "scu = openmc.Universe(cells=[small_coolant_cell, outside_small_cell]) # scu means small coolant universe\n",
    "bcu = openmc.Universe(cells=[big_coolant_cell, outside_big_cell])     # bcu means big coolant universe\n"
   ]
  },
  {
   "cell_type": "code",
   "execution_count": 8,
   "id": "1b942511",
   "metadata": {},
   "outputs": [],
   "source": [
    "# poison_surf = openmc.ZCylinder(r=0.6375)\n",
    "# poison_cell = openmc.Cell(region=-poison_surf & -maxz & +minz, fill=b4c)\n",
    "# outside_poison_cell = openmc.Cell(region=+poison_surf & -maxz & +minz, fill=graphite)\n",
    "\n",
    "# pu = openmc.Universe(cells=[poison_cell, outside_poison_cell]) # pu means poison universe\n",
    "# pu.plot(width=(1.8, 1.8), color_by='material',\n",
    "#                           colors = {graphite: (97, 97, 97), fuel: (238, 59, 59), helium: (240, 255, 255),\n",
    "#                                     b4c: (102, 205, 0)})"
   ]
  },
  {
   "cell_type": "code",
   "execution_count": 9,
   "id": "2d33fe0f",
   "metadata": {},
   "outputs": [],
   "source": [
    "outer_pin_region = +cylsurf & -maxz & +minz\n",
    "outer_pin_cell = openmc.Cell(fill=graphite, region=outer_pin_region)\n",
    "\n",
    "tpcu = openmc.Universe(cells=[lattice_cell, outer_pin_cell]) # tpcu means total pin cell universe\n",
    "\n",
    "# tpcu.plot(width=(1.9, 1.9), color_by='material',\n",
    "#                              colors = {graphite: (97, 97, 97), fuel: (238, 59, 59), helium: (240, 255, 255),\n",
    "#                                        b4c: (102, 205, 0)})"
   ]
  },
  {
   "cell_type": "code",
   "execution_count": 10,
   "id": "f486e436",
   "metadata": {},
   "outputs": [],
   "source": [
    "outer_pin_region1 = +cylsurf1 & -maxz & +minz\n",
    "outer_pin_cell1 = openmc.Cell(fill=graphite, region=outer_pin_region1)\n",
    "\n",
    "mapcu = openmc.Universe(cells=[lattice_cell4, outer_pin_cell1]) # mapcu means total pin cell universe 2% ma_mix\n",
    "\n",
    "# mapcu.plot(width=(1.9, 1.9), color_by='material')"
   ]
  },
  {
   "cell_type": "code",
   "execution_count": 11,
   "id": "419a3829",
   "metadata": {},
   "outputs": [],
   "source": [
    "outer_graphite_cell = openmc.Cell(fill=graphite)\n",
    "ogu = openmc.Universe(cells=[outer_graphite_cell]) # ogu means outer graphite universe\n",
    "\n",
    "# ogu.plot(width=(1.9, 1.9), color_by='material',\n",
    "#                              colors = {graphite: (97, 97, 97), fuel: (238, 59, 59), helium: (240, 255, 255),\n",
    "#                                        b4c: (102, 205, 0)})"
   ]
  },
  {
   "cell_type": "code",
   "execution_count": 12,
   "id": "d7aaf977",
   "metadata": {},
   "outputs": [
    {
     "name": "stdout",
     "output_type": "stream",
     "text": [
      "HexLattice\n",
      "\tID             =\t142\n",
      "\tName           =\tAssembly\n",
      "\tOrientation    =\tx\n",
      "\t# Rings        =\t11\n",
      "\t# Axial        =\tNone\n",
      "\tCenter         =\t(0.0, 0.0)\n",
      "\tPitch          =\t(1.8796,)\n",
      "\tOuter          =\t141\n",
      "\tUniverses      \n",
      "                              141   139   138   139   139   138   139   139   138   139   141\n",
      "                           139   138   139   139   138   139   139   138   139   139   138   139\n",
      "                        138   139   139   138   139   139   138   139   139   138   139   139   138\n",
      "                     139   139   138   139   139   138   139   139   138   139   139   138   139   139\n",
      "                  139   138   139   139   138   140   140   138   140   140   138   139   139   138   139\n",
      "               138   139   139   138   140   139   138   139   139   138   139   140   138   139   139   138\n",
      "            139   139   138   139   140   138   140   140   138   140   140   138   140   139   138   139   139\n",
      "         139   138   139   139   138   139   140   138   139   139   138   140   139   138   139   139   138   139\n",
      "      138   139   139   138   140   139   138   139   140   137   140   139   138   139   140   138   139   139   138\n",
      "   139   139   138   139   140   138   140   139   137   141   141   137   139   140   138   140   139   138   139   139\n",
      "141   138   139   139   138   139   140   138   140   141   141   141   140   138   140   139   138   139   139   138   141\n",
      "   139   139   138   139   140   138   140   139   137   141   141   137   139   140   138   140   139   138   139   139\n",
      "      138   139   139   138   140   139   138   139   140   137   140   139   138   139   140   138   139   139   138\n",
      "         139   138   139   139   138   139   140   138   139   139   138   140   139   138   139   139   138   139\n",
      "            139   139   138   139   140   138   140   140   138   140   140   138   140   139   138   139   139\n",
      "               138   139   139   138   140   139   138   139   139   138   139   140   138   139   139   138\n",
      "                  139   138   139   139   138   140   140   138   140   140   138   139   139   138   139\n",
      "                     139   139   138   139   139   138   139   139   138   139   139   138   139   139\n",
      "                        138   139   139   138   139   139   138   139   139   138   139   139   138\n",
      "                           139   138   139   139   138   139   139   138   139   139   138   139\n",
      "                              141   139   138   139   139   138   139   139   138   139   141\n"
     ]
    }
   ],
   "source": [
    "# Construct geometry of the hexagonal fuel assembly\n",
    "# ogu, tpcu, pu, scu, bcu\n",
    "# outer_graphite_universe, total_pin_cell_universe, poison_universe, small_coolant_universe, big_coolant_universe\n",
    "\n",
    "assemblylat = openmc.HexLattice(name=\"Assembly\")\n",
    "assemblylat.outer = ogu\n",
    "assemblylat.pitch = (1.8796,)\n",
    "assemblylat.center = (0.0, 0.0)\n",
    "assemblylat.orientation = 'x'\n",
    "\n",
    "outer_ring = ([ogu, tpcu, bcu] + [tpcu, tpcu, bcu]*2 + [tpcu])*2   +   ([ogu, tpcu] + [bcu, tpcu, tpcu]*2 + [bcu, tpcu])*4\n",
    "\n",
    "ring_1 = ([bcu, tpcu, tpcu]*3)*6\n",
    "\n",
    "ring_2 = ([tpcu] + [bcu, tpcu, tpcu]*2 + [bcu])*6\n",
    "\n",
    "ring_3 = ([tpcu, tpcu, bcu]*2 + [tpcu])*6\n",
    "\n",
    "ring_4 = ([bcu, mapcu, mapcu]*2)*6 #mapcu\n",
    "\n",
    "ring_5 = [tpcu, bcu, tpcu, tpcu, bcu]*6\n",
    "\n",
    "ring_6 = [mapcu, mapcu, bcu, mapcu]*6 #mapcu\n",
    "\n",
    "ring_7 = [bcu, tpcu, tpcu]*6\n",
    "\n",
    "ring_8 = [mapcu, scu]*6 #mapcu\n",
    "\n",
    "ring_9 = [ogu]*6 \n",
    "\n",
    "inner_ring = [ogu]\n",
    "\n",
    "assemblylat.universes = [outer_ring,\n",
    "                     ring_1,\n",
    "                     ring_2,\n",
    "                     ring_3,\n",
    "                     ring_4,\n",
    "                     ring_5,\n",
    "                     ring_6,\n",
    "                     ring_7,\n",
    "                     ring_8,\n",
    "                     ring_9,\n",
    "                     inner_ring]\n",
    "print(assemblylat)\n"
   ]
  },
  {
   "cell_type": "code",
   "execution_count": 13,
   "id": "3067e4c1",
   "metadata": {},
   "outputs": [],
   "source": [
    "\n",
    "\n",
    "assembly_surf = openmc.model.hexagonal_prism(edge_length=21, orientation='x', boundary_type='reflective')\n",
    "assembly_cell = openmc.Cell(fill=assemblylat, region=assembly_surf & +minz & -maxz)\n",
    "assembly_universe = openmc.Universe(cells=[assembly_cell])\n",
    "\n"
   ]
  },
  {
   "cell_type": "code",
   "execution_count": 14,
   "id": "8dd681f6",
   "metadata": {
    "scrolled": false
   },
   "outputs": [],
   "source": [
    "# assembly_universe.plot(width=(50, 50), pixels = (1000, 1000), color_by='cell')\n",
    "#                        colors = {graphite: (97, 97, 97), lattice_cell: (238, 59, 59), helium: (240, 255, 255),\n",
    "#                                  b4c: (102, 205, 0),\n",
    "#                                 graphite1: (97, 97, 97), fuel1: 'yellow', helium1: (240, 255, 255),\n",
    "#                                        b4c1: (102, 205, 0)})\n",
    "\n",
    "# assembly_universe.plot(width=(50, 50), basis = 'xz', pixels = (1000, 1000), color_by='cell')"
   ]
  },
  {
   "cell_type": "code",
   "execution_count": 15,
   "id": "1d8f15ef",
   "metadata": {},
   "outputs": [],
   "source": [
    "geom = openmc.Geometry(assembly_universe)\n",
    "geom.export_to_xml()\n",
    "\n"
   ]
  },
  {
   "cell_type": "code",
   "execution_count": 16,
   "id": "7ed422b8",
   "metadata": {},
   "outputs": [],
   "source": [
    "# OpenMC simulation parameters\n",
    "\n",
    "batches = 20\n",
    "inactive = 5\n",
    "particles = 5000"
   ]
  },
  {
   "cell_type": "code",
   "execution_count": 17,
   "id": "48f15195",
   "metadata": {},
   "outputs": [],
   "source": [
    "##############################################################################\n",
    "#                   Exporting to OpenMC settings.xml file\n",
    "##############################################################################\n",
    "\n",
    "# Instantiate a Settings object, set all runtime parameters, and export to XML\n",
    "\n",
    "settings_file = openmc.Settings()\n",
    "settings_file.temperature = {\n",
    "\t\t 'method'    :'interpolation',\n",
    "\t\t 'tolerance' : 300.0\n",
    "}\n",
    "# settings_file.temperature = {'method':'interpolation'}\n",
    "settings_file.batches = batches\n",
    "settings_file.inactive = inactive\n",
    "settings_file.particles = particles\n",
    "settings_file.output = {'tallies': True}\n",
    "\n",
    "# Create an initial uniform spatial source distribution over fissionable zones\n",
    "bounds = [-5, -5, -0.63, 5, 5, 0.63]\n",
    "uniform_dist = openmc.stats.Box(bounds[:3], bounds[3:], only_fissionable=True)\n",
    "settings_file.source = openmc.Source(space=uniform_dist)\n",
    "\n",
    "\n",
    "settings_file.export_to_xml()"
   ]
  },
  {
   "cell_type": "code",
   "execution_count": 18,
   "id": "ce2c39a0",
   "metadata": {
    "scrolled": false
   },
   "outputs": [],
   "source": [
    "# openmc.run()"
   ]
  },
  {
   "cell_type": "code",
   "execution_count": 19,
   "id": "4ef3851a",
   "metadata": {},
   "outputs": [],
   "source": [
    "import math\n",
    "import openmc.deplete\n",
    "\n",
    "\n",
    "\n",
    "fuel.volume = 4/3 * 3.1416 * 0.02125**3 * len(triso_particles) * 162\n",
    "\n",
    "MA_mix.volume = 4/3 * 3.1416 * 0.02125**3 * len(quadriso_particles) * 48\n",
    "\n",
    "chain = openmc.deplete.Chain.from_xml(\"/home/razu/Downloads/chain_casl_pwr.xml\")\n",
    "\n",
    "\n",
    "model = openmc.Model(geometry=geom, settings=settings_file)\n",
    "operator = openmc.deplete.CoupledOperator(model, \"/home/razu/Downloads/chain_casl_pwr.xml\")\n",
    "\n",
    "\n",
    "\n",
    "power = 113.1 * operator.heavy_metal\n",
    "# power = (350000000/66)/10\n"
   ]
  },
  {
   "cell_type": "code",
   "execution_count": 20,
   "id": "d5037979",
   "metadata": {},
   "outputs": [
    {
     "name": "stdout",
     "output_type": "stream",
     "text": [
      "824490.946735122\n"
     ]
    }
   ],
   "source": [
    "print(power)"
   ]
  },
  {
   "cell_type": "code",
   "execution_count": 21,
   "id": "23f2b70d",
   "metadata": {},
   "outputs": [],
   "source": [
    "# operator.heavy_metal"
   ]
  },
  {
   "cell_type": "code",
   "execution_count": 22,
   "id": "4472aeca",
   "metadata": {},
   "outputs": [],
   "source": [
    "\n",
    "# power = 113.1 * operator.heavy_metal"
   ]
  },
  {
   "cell_type": "code",
   "execution_count": 23,
   "id": "db911ecc",
   "metadata": {},
   "outputs": [],
   "source": [
    "# print(power)"
   ]
  },
  {
   "cell_type": "code",
   "execution_count": 24,
   "id": "ed4bc7fd",
   "metadata": {},
   "outputs": [],
   "source": [
    "\n",
    "\n",
    "time_steps = [30] * 20\n",
    "\n",
    "integrator = openmc.deplete.PredictorIntegrator(operator, time_steps, power, timestep_units='d')\n",
    "\n",
    "\n"
   ]
  },
  {
   "cell_type": "code",
   "execution_count": 25,
   "id": "ba302935",
   "metadata": {
    "scrolled": true
   },
   "outputs": [],
   "source": [
    "\n",
    "\n",
    "# integrator.integrate()\n",
    "\n"
   ]
  },
  {
   "cell_type": "code",
   "execution_count": 26,
   "id": "4a06f3fe",
   "metadata": {},
   "outputs": [
    {
     "name": "stdout",
     "output_type": "stream",
     "text": [
      "depletion_results.h5\t  openmc_simulation_n17.h5  openmc_simulation_n6.h5\r\n",
      "openmc_simulation_n0.h5   openmc_simulation_n18.h5  openmc_simulation_n7.h5\r\n",
      "openmc_simulation_n10.h5  openmc_simulation_n19.h5  openmc_simulation_n8.h5\r\n",
      "openmc_simulation_n11.h5  openmc_simulation_n1.h5   openmc_simulation_n9.h5\r\n",
      "openmc_simulation_n12.h5  openmc_simulation_n20.h5  statepoint.15.h5\r\n",
      "openmc_simulation_n13.h5  openmc_simulation_n2.h5   statepoint.20.h5\r\n",
      "openmc_simulation_n14.h5  openmc_simulation_n3.h5   summary.h5\r\n",
      "openmc_simulation_n15.h5  openmc_simulation_n4.h5\r\n",
      "openmc_simulation_n16.h5  openmc_simulation_n5.h5\r\n"
     ]
    }
   ],
   "source": [
    "!ls *.h5"
   ]
  },
  {
   "cell_type": "code",
   "execution_count": 27,
   "id": "14ef6424",
   "metadata": {},
   "outputs": [],
   "source": [
    "results = openmc.deplete.Results(\"./depletion_results.h5\")\n",
    "\n",
    "\n",
    "\n",
    "time, k = results.get_keff()\n",
    "\n",
    "\n",
    "\n",
    "time /= (24 * 60 * 60)  # convert back to days from seconds\n",
    "\n",
    "\n"
   ]
  },
  {
   "cell_type": "code",
   "execution_count": 28,
   "id": "53c60d00",
   "metadata": {},
   "outputs": [
    {
     "data": {
      "text/plain": [
       "<matplotlib.lines.Line2D at 0x7fee014bf820>"
      ]
     },
     "execution_count": 28,
     "metadata": {},
     "output_type": "execute_result"
    },
    {
     "data": {
      "image/png": "[encoded data removed]",
      "text/plain": [
       "<Figure size 640x480 with 1 Axes>"
      ]
     },
     "metadata": {},
     "output_type": "display_data"
    }
   ],
   "source": [
    "\n",
    "from matplotlib import pyplot\n",
    "\n",
    "\n",
    "\n",
    "pyplot.errorbar(time, k[:, 0], yerr=k[:, 1])\n",
    "pyplot.xlabel(\"Time [d]\")\n",
    "pyplot.ylabel(\"$k_{eff}\\pm \\sigma$\");\n",
    "\n",
    "pyplot.axhline(y = 1, color = 'r', linestyle = '--')"
   ]
  },
  {
   "cell_type": "code",
   "execution_count": 29,
   "id": "6e329b09",
   "metadata": {},
   "outputs": [
    {
     "data": {
      "text/plain": [
       "array([[1.18761306, 0.00272775],\n",
       "       [1.15030322, 0.00384254],\n",
       "       [1.13987801, 0.00281418],\n",
       "       [1.13855745, 0.00286012],\n",
       "       [1.13522219, 0.0026852 ],\n",
       "       [1.12983893, 0.00266019],\n",
       "       [1.11862556, 0.00339893],\n",
       "       [1.10968073, 0.00267937],\n",
       "       [1.1063073 , 0.00394652],\n",
       "       [1.09523426, 0.00245729],\n",
       "       [1.09087   , 0.00307474],\n",
       "       [1.08757919, 0.00333102],\n",
       "       [1.07057707, 0.00297977],\n",
       "       [1.06887874, 0.00324486],\n",
       "       [1.05227509, 0.00434881],\n",
       "       [1.05177434, 0.00523054],\n",
       "       [1.0434627 , 0.00331356],\n",
       "       [1.03600953, 0.00466787],\n",
       "       [1.02454924, 0.00365225],\n",
       "       [1.02100001, 0.00310931],\n",
       "       [1.0147231 , 0.00388123]])"
      ]
     },
     "execution_count": 29,
     "metadata": {},
     "output_type": "execute_result"
    }
   ],
   "source": [
    "k"
   ]
  },
  {
   "cell_type": "code",
   "execution_count": 30,
   "id": "682ba328",
   "metadata": {},
   "outputs": [
    {
     "data": {
      "text/plain": [
       "21"
      ]
     },
     "execution_count": 30,
     "metadata": {},
     "output_type": "execute_result"
    }
   ],
   "source": [
    "len(k)"
   ]
  },
  {
   "cell_type": "code",
   "execution_count": 31,
   "id": "cb509738",
   "metadata": {},
   "outputs": [
    {
     "data": {
      "text/plain": [
       "array([  0.,  30.,  60.,  90., 120., 150., 180., 210., 240., 270., 300.,\n",
       "       330., 360., 390., 420., 450., 480., 510., 540., 570., 600.])"
      ]
     },
     "execution_count": 31,
     "metadata": {},
     "output_type": "execute_result"
    }
   ],
   "source": [
    "time"
   ]
  },
  {
   "cell_type": "code",
   "execution_count": 32,
   "id": "40b5ca1a",
   "metadata": {},
   "outputs": [
    {
     "name": "stdout",
     "output_type": "stream",
     "text": [
      "[1.187613059863303, 1.1503032215465194, 1.139878012467239, 1.1385574459906833, 1.135222186345895, 1.1298389337991657, 1.1186255578297932, 1.1096807324681104, 1.1063072965356728, 1.0952342604039047, 1.0908699955292707, 1.08757918506618, 1.070577072440383, 1.0688787444043455, 1.052275094441581, 1.0517743376357533, 1.0434626958805375, 1.0360095305997366, 1.024549240850633, 1.0210000132057713, 1.0147230997620218]\n"
     ]
    },
    {
     "data": {
      "text/plain": [
       "21"
      ]
     },
     "execution_count": 32,
     "metadata": {},
     "output_type": "execute_result"
    }
   ],
   "source": [
    "k_ma = []\n",
    "for i in range(0,len(k),1):\n",
    "    k_ma.append(k[i][0])\n",
    "print(k_ma)\n",
    "len(k_ma)"
   ]
  },
  {
   "cell_type": "code",
   "execution_count": 33,
   "id": "71b268bf",
   "metadata": {},
   "outputs": [
    {
     "name": "stdout",
     "output_type": "stream",
     "text": [
      "7289.928795182334\n",
      "7.289928795182335\n",
      "7289.928795182334\n"
     ]
    }
   ],
   "source": [
    "print(operator.heavy_metal)\n",
    "print(operator.heavy_metal/1000)\n",
    "\n",
    "fuel_loading = operator.heavy_metal\n",
    "print(fuel_loading)"
   ]
  },
  {
   "cell_type": "code",
   "execution_count": 34,
   "id": "99635e39",
   "metadata": {},
   "outputs": [
    {
     "name": "stdout",
     "output_type": "stream",
     "text": [
      "[ 0.     3.393  6.786 10.179 13.572 16.965 20.358 23.751 27.144 30.537\n",
      " 33.93  37.323 40.716 44.109 47.502 50.895 54.288 57.681 61.074 64.467\n",
      " 67.86 ]\n"
     ]
    }
   ],
   "source": [
    "burnup = (power * 10**(-6))*time/(fuel_loading/1000)\n",
    "print(burnup)"
   ]
  },
  {
   "cell_type": "code",
   "execution_count": 35,
   "id": "0e77c493",
   "metadata": {},
   "outputs": [
    {
     "name": "stdout",
     "output_type": "stream",
     "text": [
      "(array([       0.,  2592000.,  5184000.,  7776000., 10368000., 12960000.,\n",
      "       15552000., 18144000., 20736000., 23328000., 25920000., 28512000.,\n",
      "       31104000., 33696000., 36288000., 38880000., 41472000., 44064000.,\n",
      "       46656000., 49248000., 51840000.]), array([2.18643020e+24, 2.11842776e+24, 2.05280999e+24, 1.98973473e+24,\n",
      "       1.92897106e+24, 1.86999854e+24, 1.81285994e+24, 1.75738471e+24,\n",
      "       1.70355857e+24, 1.65115052e+24, 1.60004956e+24, 1.55031336e+24,\n",
      "       1.50191347e+24, 1.45455714e+24, 1.40847118e+24, 1.36366653e+24,\n",
      "       1.32004968e+24, 1.27740378e+24, 1.23592460e+24, 1.19534304e+24,\n",
      "       1.15594358e+24]))\n"
     ]
    }
   ],
   "source": [
    "print(results.get_atoms(\"1\", \"U235\"))"
   ]
  },
  {
   "cell_type": "code",
   "execution_count": 36,
   "id": "925486a9",
   "metadata": {},
   "outputs": [
    {
     "data": {
      "text/plain": [
       "array([[1.18761306, 0.00272775],\n",
       "       [1.15030322, 0.00384254],\n",
       "       [1.13987801, 0.00281418],\n",
       "       [1.13855745, 0.00286012],\n",
       "       [1.13522219, 0.0026852 ],\n",
       "       [1.12983893, 0.00266019],\n",
       "       [1.11862556, 0.00339893],\n",
       "       [1.10968073, 0.00267937],\n",
       "       [1.1063073 , 0.00394652],\n",
       "       [1.09523426, 0.00245729],\n",
       "       [1.09087   , 0.00307474],\n",
       "       [1.08757919, 0.00333102],\n",
       "       [1.07057707, 0.00297977],\n",
       "       [1.06887874, 0.00324486],\n",
       "       [1.05227509, 0.00434881],\n",
       "       [1.05177434, 0.00523054],\n",
       "       [1.0434627 , 0.00331356],\n",
       "       [1.03600953, 0.00466787],\n",
       "       [1.02454924, 0.00365225],\n",
       "       [1.02100001, 0.00310931],\n",
       "       [1.0147231 , 0.00388123]])"
      ]
     },
     "execution_count": 36,
     "metadata": {},
     "output_type": "execute_result"
    }
   ],
   "source": [
    "k"
   ]
  },
  {
   "cell_type": "code",
   "execution_count": 37,
   "id": "3d86f074",
   "metadata": {},
   "outputs": [
    {
     "data": {
      "text/plain": [
       "array([  0.,  30.,  60.,  90., 120., 150., 180., 210., 240., 270., 300.,\n",
       "       330., 360., 390., 420., 450., 480., 510., 540., 570., 600.])"
      ]
     },
     "execution_count": 37,
     "metadata": {},
     "output_type": "execute_result"
    }
   ],
   "source": [
    "t1 = results.get_times(time_units = 'd') \n",
    "t1"
   ]
  },
  {
   "cell_type": "code",
   "execution_count": 38,
   "id": "fca879ce",
   "metadata": {},
   "outputs": [
    {
     "data": {
      "text/plain": [
       "<matplotlib.legend.Legend at 0x7fee00b58ac0>"
      ]
     },
     "execution_count": 38,
     "metadata": {},
     "output_type": "execute_result"
    },
    {
     "data": {
      "image/png": "[encoded data removed]",
      "text/plain": [
       "<Figure size 640x480 with 1 Axes>"
      ]
     },
     "metadata": {},
     "output_type": "display_data"
    }
   ],
   "source": [
    "\n",
    "#fissile\n",
    "_, u235 = results.get_atoms(\"1\", \"U235\")\n",
    "_, u233 = results.get_atoms(\"1\", \"U233\")\n",
    "\n",
    "\n",
    "_, pu239 = results.get_atoms(\"1\", \"Pu239\")\n",
    "_, pu241 = results.get_atoms(\"1\", \"Pu239\")\n",
    "\n",
    "#poisons\n",
    "_, xe135 = results.get_atoms(\"1\", \"Xe135\")\n",
    "_, sm149 = results.get_atoms(\"1\", \"Sm149\")\n",
    "\n",
    "\n",
    "\n",
    "#fertile\n",
    "_, th232 = results.get_atoms(\"1\", \"Th232\")\n",
    "_, u238 = results.get_atoms(\"1\", \"U238\")\n",
    "_, pu240 = results.get_atoms(\"1\", \"Pu239\")\n",
    "\n",
    "_, u235_10 = results.get_atoms(\"10\", \"U235\")\n",
    "_, xe135_10 = results.get_atoms(\"10\", \"Xe135\")\n",
    "_, pu239_10 = results.get_atoms(\"10\", \"Pu239\")\n",
    "\n",
    "\n",
    "#for deplete materials\n",
    "\n",
    "#fissile\n",
    "_, u235_10 = results.get_atoms(\"10\", \"U235\")\n",
    "_, u233_10 = results.get_atoms(\"10\", \"U233\")\n",
    "\n",
    "\n",
    "_, pu239_10 = results.get_atoms(\"10\", \"Pu239\")\n",
    "_, pu241_10= results.get_atoms(\"10\", \"Pu239\")\n",
    "\n",
    "#poisons\n",
    "_, xe135_10 = results.get_atoms(\"10\", \"Xe135\")\n",
    "_, sm149_10 = results.get_atoms(\"10\", \"Sm149\")\n",
    "\n",
    "\n",
    "\n",
    "#fertile\n",
    "_, th232_10 = results.get_atoms(\"10\", \"Th232\")\n",
    "_, u238_10 = results.get_atoms(\"10\", \"U238\")\n",
    "_, pu240_10 = results.get_atoms(\"10\", \"Pu239\")\n",
    "\n",
    "pyplot.plot(time, u235, label=\"U235 (triso)\")\n",
    "pyplot.xlabel(\"Time [d]\")\n",
    "pyplot.ylabel(\"Number of atoms - U235\");\n",
    "\n",
    "\n",
    "pyplot.plot(time, u233, label=\"U233 (triso)\")\n",
    "pyplot.xlabel(\"Time [d]\")\n",
    "pyplot.ylabel(\"Number of atoms - U233\");\n",
    "\n",
    "pyplot.plot(time, u238, label=\"U238 (triso)\")\n",
    "pyplot.xlabel(\"Time [d]\")\n",
    "pyplot.ylabel(\"Number of atoms - U238\");\n",
    "\n",
    "pyplot.plot(time, pu239, label=\"Pu239 (triso)\")\n",
    "pyplot.xlabel(\"Time [d]\")\n",
    "pyplot.ylabel(\"Number of atoms - Pu239\");\n",
    "\n",
    "pyplot.plot(time, pu240, label=\"Pu240 (triso)\")\n",
    "pyplot.xlabel(\"Time [d]\")\n",
    "pyplot.ylabel(\"Number of atoms - Pu240\");\n",
    "\n",
    "pyplot.plot(time, pu241, label=\"Pu241 (triso)\")\n",
    "pyplot.xlabel(\"Time [d]\")\n",
    "pyplot.ylabel(\"Number of atoms - Pu241\");\n",
    "\n",
    "pyplot.plot(time, th232, label=\"Th232 (triso)\")\n",
    "pyplot.xlabel(\"Time [d]\")\n",
    "pyplot.ylabel(\"Number of atoms - Th232\");\n",
    "pyplot.legend()"
   ]
  },
  {
   "cell_type": "code",
   "execution_count": 39,
   "id": "1e063ae5",
   "metadata": {},
   "outputs": [
    {
     "name": "stdout",
     "output_type": "stream",
     "text": [
      "[5.96942309e+05 6.03048136e+14 1.05619560e+15 2.06499198e+15\n",
      " 2.85087386e+15 3.36295722e+15 4.63794277e+15 4.58037874e+15\n",
      " 4.51872317e+15 5.63169721e+15 5.78448473e+15 5.71564911e+15\n",
      " 6.90250161e+15 7.17775676e+15 7.28426231e+15 7.66328980e+15\n",
      " 8.45829213e+15 8.43219531e+15 8.62453871e+15 8.81963447e+15\n",
      " 9.76577120e+15]\n"
     ]
    }
   ],
   "source": [
    "print(u233)"
   ]
  },
  {
   "cell_type": "code",
   "execution_count": 40,
   "id": "68b9e2fb",
   "metadata": {},
   "outputs": [
    {
     "name": "stdout",
     "output_type": "stream",
     "text": [
      "[2.18643020e+24 2.11842776e+24 2.05280999e+24 1.98973473e+24\n",
      " 1.92897106e+24 1.86999854e+24 1.81285994e+24 1.75738471e+24\n",
      " 1.70355857e+24 1.65115052e+24 1.60004956e+24 1.55031336e+24\n",
      " 1.50191347e+24 1.45455714e+24 1.40847118e+24 1.36366653e+24\n",
      " 1.32004968e+24 1.27740378e+24 1.23592460e+24 1.19534304e+24\n",
      " 1.15594358e+24]\n"
     ]
    }
   ],
   "source": [
    "print(u235)"
   ]
  },
  {
   "cell_type": "code",
   "execution_count": 41,
   "id": "68132832",
   "metadata": {},
   "outputs": [
    {
     "name": "stdout",
     "output_type": "stream",
     "text": [
      "[1.19195711e+25 1.18934568e+25 1.18664738e+25 1.18391941e+25\n",
      " 1.18117481e+25 1.17840833e+25 1.17562530e+25 1.17278492e+25\n",
      " 1.16995043e+25 1.16707193e+25 1.16417343e+25 1.16122899e+25\n",
      " 1.15832448e+25 1.15530489e+25 1.15227663e+25 1.14917819e+25\n",
      " 1.14609629e+25 1.14300033e+25 1.13983597e+25 1.13670407e+25\n",
      " 1.13351561e+25]\n"
     ]
    }
   ],
   "source": [
    "print(u238)"
   ]
  },
  {
   "cell_type": "code",
   "execution_count": 42,
   "id": "e84f0d75",
   "metadata": {},
   "outputs": [
    {
     "name": "stdout",
     "output_type": "stream",
     "text": [
      "[5.96942309e+05 2.15720029e+22 4.37567065e+22 6.36278841e+22\n",
      " 8.13247653e+22 9.71491347e+22 1.11275988e+23 1.24213851e+23\n",
      " 1.35669412e+23 1.46012662e+23 1.55456863e+23 1.64064133e+23\n",
      " 1.71370653e+23 1.78609039e+23 1.85152956e+23 1.91436932e+23\n",
      " 1.96714776e+23 2.01418196e+23 2.06005785e+23 2.09687223e+23\n",
      " 2.13147772e+23]\n"
     ]
    }
   ],
   "source": [
    "print(pu239)"
   ]
  },
  {
   "cell_type": "code",
   "execution_count": 43,
   "id": "81527dcf",
   "metadata": {},
   "outputs": [
    {
     "name": "stdout",
     "output_type": "stream",
     "text": [
      "[5.96942309e+05 2.15720029e+22 4.37567065e+22 6.36278841e+22\n",
      " 8.13247653e+22 9.71491347e+22 1.11275988e+23 1.24213851e+23\n",
      " 1.35669412e+23 1.46012662e+23 1.55456863e+23 1.64064133e+23\n",
      " 1.71370653e+23 1.78609039e+23 1.85152956e+23 1.91436932e+23\n",
      " 1.96714776e+23 2.01418196e+23 2.06005785e+23 2.09687223e+23\n",
      " 2.13147772e+23]\n"
     ]
    }
   ],
   "source": [
    "print(pu240)"
   ]
  },
  {
   "cell_type": "code",
   "execution_count": 44,
   "id": "d8125828",
   "metadata": {},
   "outputs": [
    {
     "name": "stdout",
     "output_type": "stream",
     "text": [
      "[5.96942309e+05 2.15720029e+22 4.37567065e+22 6.36278841e+22\n",
      " 8.13247653e+22 9.71491347e+22 1.11275988e+23 1.24213851e+23\n",
      " 1.35669412e+23 1.46012662e+23 1.55456863e+23 1.64064133e+23\n",
      " 1.71370653e+23 1.78609039e+23 1.85152956e+23 1.91436932e+23\n",
      " 1.96714776e+23 2.01418196e+23 2.06005785e+23 2.09687223e+23\n",
      " 2.13147772e+23]\n"
     ]
    }
   ],
   "source": [
    "print(pu241)"
   ]
  },
  {
   "cell_type": "code",
   "execution_count": 45,
   "id": "3ea233d4",
   "metadata": {},
   "outputs": [
    {
     "name": "stdout",
     "output_type": "stream",
     "text": [
      "[5.96942309e+05 1.77370105e+13 6.89326110e+13 1.52230147e+14\n",
      " 2.66192355e+14 4.09560332e+14 5.81216591e+14 7.80072340e+14\n",
      " 1.00511549e+15 1.25531360e+15 1.52975733e+15 1.82757106e+15\n",
      " 2.14778209e+15 2.48942900e+15 2.85174290e+15 3.23394422e+15\n",
      " 3.63517142e+15 4.05454944e+15 4.49133819e+15 4.94494563e+15\n",
      " 5.41441088e+15]\n"
     ]
    }
   ],
   "source": [
    "print(th232)"
   ]
  },
  {
   "cell_type": "code",
   "execution_count": 46,
   "id": "86a6ae3a",
   "metadata": {},
   "outputs": [
    {
     "name": "stdout",
     "output_type": "stream",
     "text": [
      "[5.96942309e+05 2.48493797e+19 2.55453080e+19 2.56105405e+19\n",
      " 2.56866092e+19 2.58149450e+19 2.58354841e+19 2.59257013e+19\n",
      " 2.58830569e+19 2.58953045e+19 2.57012054e+19 2.58010254e+19\n",
      " 2.55624944e+19 2.56090269e+19 2.54422297e+19 2.55270150e+19\n",
      " 2.53961466e+19 2.51711913e+19 2.51245774e+19 2.48762389e+19\n",
      " 2.48580672e+19]\n"
     ]
    }
   ],
   "source": [
    "print(xe135)"
   ]
  },
  {
   "cell_type": "code",
   "execution_count": 47,
   "id": "ad6fa3e5",
   "metadata": {},
   "outputs": [
    {
     "name": "stdout",
     "output_type": "stream",
     "text": [
      "[5.96942309e+05 1.83645425e+20 2.09747318e+20 2.17719959e+20\n",
      " 2.25623362e+20 2.33091171e+20 2.39607968e+20 2.46371093e+20\n",
      " 2.51467445e+20 2.56118673e+20 2.58455348e+20 2.64524383e+20\n",
      " 2.65248538e+20 2.69633116e+20 2.71286931e+20 2.77679258e+20\n",
      " 2.78514271e+20 2.77756093e+20 2.80638274e+20 2.80113381e+20\n",
      " 2.81863866e+20]\n"
     ]
    }
   ],
   "source": [
    "print(sm149)"
   ]
  },
  {
   "cell_type": "code",
   "execution_count": 48,
   "id": "583f3120",
   "metadata": {},
   "outputs": [
    {
     "data": {
      "text/plain": [
       "<matplotlib.legend.Legend at 0x7feddaf2c3a0>"
      ]
     },
     "execution_count": 48,
     "metadata": {},
     "output_type": "execute_result"
    },
    {
     "data": {
      "image/png": "[encoded data removed]",
      "text/plain": [
       "<Figure size 640x480 with 1 Axes>"
      ]
     },
     "metadata": {},
     "output_type": "display_data"
    }
   ],
   "source": [
    "u235_all = u235 + u235_10\n",
    "u233_all = u233 + u233_10\n",
    "pu239_all = pu239 + pu239_10\n",
    "pu241_all = pu241 + pu241_10\n",
    "\n",
    "u238_all = u238 + u238_10\n",
    "pu240_all = pu240 + pu240_10\n",
    "\n",
    "xe135_all = xe135 + xe135_10\n",
    "sm149_all = sm149 + sm149_10\n",
    "\n",
    "pyplot.plot(time, u233_all, label=\"U233 (full element)\")\n",
    "pyplot.xlabel(\"Time [d]\")\n",
    "pyplot.ylabel(\"Number of atoms - U233\");\n",
    "\n",
    "\n",
    "pyplot.plot(time, u235_all, label=\"U235 (full element)\")\n",
    "pyplot.xlabel(\"Time [d]\")\n",
    "pyplot.ylabel(\"Number of atoms - U235\");\n",
    "\n",
    "pyplot.plot(time, u238_all, label=\"U238 (full element)\")\n",
    "pyplot.xlabel(\"Time [d]\")\n",
    "pyplot.ylabel(\"Number of atoms - U238\");\n",
    "\n",
    "pyplot.plot(time, pu239_all, label=\"Pu239 (full element)\")\n",
    "pyplot.xlabel(\"Time [d]\")\n",
    "pyplot.ylabel(\"Number of atoms - Pu239\");\n",
    "\n",
    "pyplot.plot(time, pu240_all, label=\"Pu240 (full element)\")\n",
    "pyplot.xlabel(\"Time [d]\")\n",
    "pyplot.ylabel(\"Number of atoms - Pu240\");\n",
    "\n",
    "pyplot.plot(time, pu241_all, label=\"Pu241 (full element)\")\n",
    "pyplot.xlabel(\"Time [d]\")\n",
    "pyplot.ylabel(\"Number of atoms - Pu241\");\n",
    "\n",
    "pyplot.plot(time, xe135_all, label=\"Xe135 (full element)\")\n",
    "pyplot.xlabel(\"Time [d]\")\n",
    "pyplot.ylabel(\"Number of atoms - Xe135\");\n",
    "\n",
    "pyplot.plot(time, sm149_all, label=\"Sm149 (full element)\")\n",
    "pyplot.xlabel(\"Time [d]\")\n",
    "pyplot.ylabel(\"Number of atoms - Sm149\");\n",
    "\n",
    "pyplot.legend()\n"
   ]
  },
  {
   "cell_type": "code",
   "execution_count": 49,
   "id": "62eef37c",
   "metadata": {},
   "outputs": [
    {
     "data": {
      "image/png": "[encoded data removed]",
      "text/plain": [
       "<Figure size 640x480 with 1 Axes>"
      ]
     },
     "metadata": {},
     "output_type": "display_data"
    }
   ],
   "source": [
    "pyplot.plot(time, xe135_all, label=\"Xe135 (full element)\")\n",
    "pyplot.xlabel(\"Time [d]\")\n",
    "pyplot.ylabel(\"Number of atoms - Xe135\");"
   ]
  },
  {
   "cell_type": "code",
   "execution_count": 50,
   "id": "d34f5398",
   "metadata": {},
   "outputs": [
    {
     "data": {
      "image/png": "[encoded data removed]",
      "text/plain": [
       "<Figure size 640x480 with 1 Axes>"
      ]
     },
     "metadata": {},
     "output_type": "display_data"
    }
   ],
   "source": [
    "pyplot.plot(time, sm149_all, label=\"Sm149 (full element)\")\n",
    "pyplot.xlabel(\"Time [d]\")\n",
    "pyplot.ylabel(\"Number of atoms - Sm149\");"
   ]
  },
  {
   "cell_type": "code",
   "execution_count": 51,
   "id": "565ba2e3",
   "metadata": {},
   "outputs": [
    {
     "name": "stdout",
     "output_type": "stream",
     "text": [
      "[2.78872192e+24 2.70365258e+24 2.62161065e+24 2.54257701e+24\n",
      " 2.46624060e+24 2.39226081e+24 2.32046167e+24 2.25062641e+24\n",
      " 2.18268938e+24 2.11660879e+24 2.05215573e+24 1.98938484e+24\n",
      " 1.92820610e+24 1.86845582e+24 1.81019195e+24 1.75336970e+24\n",
      " 1.69810009e+24 1.64410848e+24 1.59146940e+24 1.54010094e+24\n",
      " 1.49010881e+24]\n"
     ]
    }
   ],
   "source": [
    "print(u235_all)"
   ]
  },
  {
   "cell_type": "code",
   "execution_count": 52,
   "id": "90d4fcf3",
   "metadata": {},
   "outputs": [
    {
     "name": "stdout",
     "output_type": "stream",
     "text": [
      "[7.73814104e+05 2.85517498e+15 8.08910086e+15 1.48290108e+16\n",
      " 2.14143551e+16 2.76093851e+16 3.49097478e+16 3.99655236e+16\n",
      " 4.46785705e+16 5.04650300e+16 5.49590760e+16 5.87605230e+16\n",
      " 6.41585558e+16 6.77067585e+16 7.08679082e+16 7.40752018e+16\n",
      " 7.76809406e+16 7.99450325e+16 8.23052991e+16 8.43744813e+16\n",
      " 8.72876602e+16]\n"
     ]
    }
   ],
   "source": [
    "print(u233_all)"
   ]
  },
  {
   "cell_type": "code",
   "execution_count": 53,
   "id": "c21f242b",
   "metadata": {},
   "outputs": [
    {
     "name": "stdout",
     "output_type": "stream",
     "text": [
      "[7.73814104e+05 2.74748856e+22 5.60141914e+22 8.16623038e+22\n",
      " 1.04807628e+23 1.25426153e+23 1.43872242e+23 1.60924281e+23\n",
      " 1.76160008e+23 1.90228252e+23 2.02999744e+23 2.14639454e+23\n",
      " 2.24804877e+23 2.34683910e+23 2.43661770e+23 2.52356514e+23\n",
      " 2.59843366e+23 2.66509669e+23 2.72972447e+23 2.78669273e+23\n",
      " 2.83986508e+23]\n"
     ]
    }
   ],
   "source": [
    "print(pu239_all)"
   ]
  },
  {
   "cell_type": "code",
   "execution_count": 54,
   "id": "9080febb",
   "metadata": {},
   "outputs": [
    {
     "name": "stdout",
     "output_type": "stream",
     "text": [
      "[7.73814104e+05 2.74748856e+22 5.60141914e+22 8.16623038e+22\n",
      " 1.04807628e+23 1.25426153e+23 1.43872242e+23 1.60924281e+23\n",
      " 1.76160008e+23 1.90228252e+23 2.02999744e+23 2.14639454e+23\n",
      " 2.24804877e+23 2.34683910e+23 2.43661770e+23 2.52356514e+23\n",
      " 2.59843366e+23 2.66509669e+23 2.72972447e+23 2.78669273e+23\n",
      " 2.83986508e+23]\n"
     ]
    }
   ],
   "source": [
    "print(pu241_all)"
   ]
  },
  {
   "cell_type": "code",
   "execution_count": 55,
   "id": "8b496c1c",
   "metadata": {},
   "outputs": [
    {
     "name": "stdout",
     "output_type": "stream",
     "text": [
      "[1.52030324e+25 1.51698661e+25 1.51354514e+25 1.51007441e+25\n",
      " 1.50655964e+25 1.50304304e+25 1.49950951e+25 1.49590296e+25\n",
      " 1.49229649e+25 1.48861195e+25 1.48491769e+25 1.48117484e+25\n",
      " 1.47746060e+25 1.47363530e+25 1.46979352e+25 1.46585359e+25\n",
      " 1.46192638e+25 1.45799829e+25 1.45398186e+25 1.44997051e+25\n",
      " 1.44589009e+25]\n"
     ]
    }
   ],
   "source": [
    "print(u238_all)"
   ]
  },
  {
   "cell_type": "code",
   "execution_count": 56,
   "id": "879a1e9f",
   "metadata": {},
   "outputs": [
    {
     "name": "stdout",
     "output_type": "stream",
     "text": [
      "[7.73814104e+05 2.74748856e+22 5.60141914e+22 8.16623038e+22\n",
      " 1.04807628e+23 1.25426153e+23 1.43872242e+23 1.60924281e+23\n",
      " 1.76160008e+23 1.90228252e+23 2.02999744e+23 2.14639454e+23\n",
      " 2.24804877e+23 2.34683910e+23 2.43661770e+23 2.52356514e+23\n",
      " 2.59843366e+23 2.66509669e+23 2.72972447e+23 2.78669273e+23\n",
      " 2.83986508e+23]\n"
     ]
    }
   ],
   "source": [
    "print(pu240_all)"
   ]
  },
  {
   "cell_type": "code",
   "execution_count": 57,
   "id": "f16bb4dd",
   "metadata": {},
   "outputs": [
    {
     "name": "stdout",
     "output_type": "stream",
     "text": [
      "[7.73814104e+05 3.17465199e+19 3.27326670e+19 3.28925551e+19\n",
      " 3.30928280e+19 3.33011389e+19 3.33753263e+19 3.34812977e+19\n",
      " 3.35030760e+19 3.35591867e+19 3.34043515e+19 3.35647413e+19\n",
      " 3.32929926e+19 3.33628536e+19 3.32122307e+19 3.33918560e+19\n",
      " 3.32756885e+19 3.29946127e+19 3.29943377e+19 3.27273106e+19\n",
      " 3.27767173e+19]\n"
     ]
    }
   ],
   "source": [
    "print(xe135_all)"
   ]
  },
  {
   "cell_type": "code",
   "execution_count": 58,
   "id": "c17145df",
   "metadata": {},
   "outputs": [
    {
     "name": "stdout",
     "output_type": "stream",
     "text": [
      "[7.73814104e+05 2.35937498e+20 2.71674136e+20 2.82954582e+20\n",
      " 2.94222093e+20 3.04466313e+20 3.13146413e+20 3.21917496e+20\n",
      " 3.28672306e+20 3.35329454e+20 3.39369152e+20 3.47624515e+20\n",
      " 3.48633786e+20 3.54219404e+20 3.56947516e+20 3.65707302e+20\n",
      " 3.67464113e+20 3.67218504e+20 3.70739312e+20 3.71157329e+20\n",
      " 3.74102127e+20]\n"
     ]
    }
   ],
   "source": [
    "print(sm149_all)"
   ]
  },
  {
   "cell_type": "code",
   "execution_count": 59,
   "id": "3493c514",
   "metadata": {},
   "outputs": [
    {
     "name": "stdout",
     "output_type": "stream",
     "text": [
      "[7.73814104e+05 2.85517498e+15 8.08910086e+15 1.48290108e+16\n",
      " 2.14143551e+16 2.76093851e+16 3.49097478e+16 3.99655236e+16\n",
      " 4.46785705e+16 5.04650300e+16 5.49590760e+16 5.87605230e+16\n",
      " 6.41585558e+16 6.77067585e+16 7.08679082e+16 7.40752018e+16\n",
      " 7.76809406e+16 7.99450325e+16 8.23052991e+16 8.43744813e+16\n",
      " 8.72876602e+16]\n",
      "[2.78872192e+24 2.70365258e+24 2.62161065e+24 2.54257701e+24\n",
      " 2.46624060e+24 2.39226081e+24 2.32046167e+24 2.25062641e+24\n",
      " 2.18268938e+24 2.11660879e+24 2.05215573e+24 1.98938484e+24\n",
      " 1.92820610e+24 1.86845582e+24 1.81019195e+24 1.75336970e+24\n",
      " 1.69810009e+24 1.64410848e+24 1.59146940e+24 1.54010094e+24\n",
      " 1.49010881e+24]\n",
      "[1.52030324e+25 1.51698661e+25 1.51354514e+25 1.51007441e+25\n",
      " 1.50655964e+25 1.50304304e+25 1.49950951e+25 1.49590296e+25\n",
      " 1.49229649e+25 1.48861195e+25 1.48491769e+25 1.48117484e+25\n",
      " 1.47746060e+25 1.47363530e+25 1.46979352e+25 1.46585359e+25\n",
      " 1.46192638e+25 1.45799829e+25 1.45398186e+25 1.44997051e+25\n",
      " 1.44589009e+25]\n",
      "[7.73814104e+05 2.74748856e+22 5.60141914e+22 8.16623038e+22\n",
      " 1.04807628e+23 1.25426153e+23 1.43872242e+23 1.60924281e+23\n",
      " 1.76160008e+23 1.90228252e+23 2.02999744e+23 2.14639454e+23\n",
      " 2.24804877e+23 2.34683910e+23 2.43661770e+23 2.52356514e+23\n",
      " 2.59843366e+23 2.66509669e+23 2.72972447e+23 2.78669273e+23\n",
      " 2.83986508e+23]\n",
      "[7.73814104e+05 2.74748856e+22 5.60141914e+22 8.16623038e+22\n",
      " 1.04807628e+23 1.25426153e+23 1.43872242e+23 1.60924281e+23\n",
      " 1.76160008e+23 1.90228252e+23 2.02999744e+23 2.14639454e+23\n",
      " 2.24804877e+23 2.34683910e+23 2.43661770e+23 2.52356514e+23\n",
      " 2.59843366e+23 2.66509669e+23 2.72972447e+23 2.78669273e+23\n",
      " 2.83986508e+23]\n",
      "[7.73814104e+05 2.74748856e+22 5.60141914e+22 8.16623038e+22\n",
      " 1.04807628e+23 1.25426153e+23 1.43872242e+23 1.60924281e+23\n",
      " 1.76160008e+23 1.90228252e+23 2.02999744e+23 2.14639454e+23\n",
      " 2.24804877e+23 2.34683910e+23 2.43661770e+23 2.52356514e+23\n",
      " 2.59843366e+23 2.66509669e+23 2.72972447e+23 2.78669273e+23\n",
      " 2.83986508e+23]\n",
      "[7.73814104e+05 3.17465199e+19 3.27326670e+19 3.28925551e+19\n",
      " 3.30928280e+19 3.33011389e+19 3.33753263e+19 3.34812977e+19\n",
      " 3.35030760e+19 3.35591867e+19 3.34043515e+19 3.35647413e+19\n",
      " 3.32929926e+19 3.33628536e+19 3.32122307e+19 3.33918560e+19\n",
      " 3.32756885e+19 3.29946127e+19 3.29943377e+19 3.27273106e+19\n",
      " 3.27767173e+19]\n",
      "[7.73814104e+05 2.35937498e+20 2.71674136e+20 2.82954582e+20\n",
      " 2.94222093e+20 3.04466313e+20 3.13146413e+20 3.21917496e+20\n",
      " 3.28672306e+20 3.35329454e+20 3.39369152e+20 3.47624515e+20\n",
      " 3.48633786e+20 3.54219404e+20 3.56947516e+20 3.65707302e+20\n",
      " 3.67464113e+20 3.67218504e+20 3.70739312e+20 3.71157329e+20\n",
      " 3.74102127e+20]\n"
     ]
    }
   ],
   "source": [
    "print(u233_all)\n",
    "\n",
    "print(u235_all)\n",
    "\n",
    "print(u238_all)\n",
    "\n",
    "print(pu239_all)\n",
    "\n",
    "print(pu240_all)\n",
    "\n",
    "print(pu241_all)\n",
    "\n",
    "print(xe135_all)\n",
    "\n",
    "print(sm149_all)"
   ]
  },
  {
   "cell_type": "code",
   "execution_count": 60,
   "id": "f211a0c7",
   "metadata": {},
   "outputs": [],
   "source": [
    "_, u235_fission = results.get_reaction_rate(\"1\", \"U235\", \"fission\")\n",
    "_, u235_fission_10 = results.get_reaction_rate(\"10\", \"U235\", \"fission\")"
   ]
  },
  {
   "cell_type": "code",
   "execution_count": 61,
   "id": "d5655aeb",
   "metadata": {},
   "outputs": [
    {
     "data": {
      "image/png": "[encoded data removed]",
      "text/plain": [
       "<Figure size 640x480 with 1 Axes>"
      ]
     },
     "metadata": {},
     "output_type": "display_data"
    }
   ],
   "source": [
    "pyplot.plot(time, u235_fission+u235_fission_10)\n",
    "pyplot.xlabel(\"Time [d]\")\n",
    "pyplot.ylabel(\"Fission reactions / s\");"
   ]
  },
  {
   "cell_type": "code",
   "execution_count": 62,
   "id": "39e326b2",
   "metadata": {},
   "outputs": [
    {
     "name": "stdout",
     "output_type": "stream",
     "text": [
      "[2.64216960e+16 2.53995765e+16 2.44450052e+16 2.36011871e+16\n",
      " 2.28495846e+16 2.21613548e+16 2.15349234e+16 2.09390171e+16\n",
      " 2.03590431e+16 1.98553056e+16 1.93238891e+16 1.88445543e+16\n",
      " 1.83902072e+16 1.79324265e+16 1.74707362e+16 1.69989720e+16\n",
      " 1.66116220e+16 1.61897842e+16 1.58028051e+16 1.53803767e+16\n",
      " 1.50241019e+16]\n"
     ]
    }
   ],
   "source": [
    "overall_fission_reaction_rate= u235_fission+u235_fission_10\n",
    "print(overall_fission_reaction_rate)"
   ]
  },
  {
   "cell_type": "code",
   "execution_count": 63,
   "id": "c16b4116",
   "metadata": {},
   "outputs": [
    {
     "data": {
      "text/plain": [
       "<matplotlib.legend.Legend at 0x7fedf3fe05b0>"
      ]
     },
     "execution_count": 63,
     "metadata": {},
     "output_type": "execute_result"
    },
    {
     "data": {
      "image/png": "[encoded data removed]",
      "text/plain": [
       "<Figure size 640x480 with 1 Axes>"
      ]
     },
     "metadata": {},
     "output_type": "display_data"
    }
   ],
   "source": [
    "\n",
    "_, np237 = results.get_atoms(\"1\",\"Np237\")\n",
    "_, am241 = results.get_atoms(\"1\",\"Am241\")\n",
    "_, am243 = results.get_atoms(\"1\", \"Am243\")\n",
    "_, cm243 = results.get_atoms(\"1\",\"Cm243\")\n",
    "_, cm244 = results.get_atoms(\"1\",\"Cm244\")\n",
    "_, cm245 = results.get_atoms(\"1\", \"Cm245\")\n",
    "\n",
    "_, np237_10 = results.get_atoms(\"10\",\"Np237\")\n",
    "_, am241_10 = results.get_atoms(\"10\",\"Am241\")\n",
    "_, am243_10 = results.get_atoms(\"10\", \"Am243\")\n",
    "_, cm243_10 = results.get_atoms(\"10\",\"Cm243\")\n",
    "_, cm244_10 = results.get_atoms(\"10\",\"Cm244\")\n",
    "_, cm245_10 = results.get_atoms(\"10\", \"Cm245\")\n",
    "\n",
    "\n",
    "pyplot.plot(time, np237+np237_10, label=\"Np237\", )\n",
    "\n",
    "pyplot.plot(time, am241+am241_10, label=\"Am241\")\n",
    "\n",
    "pyplot.plot(time, am243+am243_10, label=\"Am243\")\n",
    "\n",
    "pyplot.plot(time, cm243+cm243_10, label=\"Cm243\")\n",
    "\n",
    "pyplot.plot(time, cm244+cm245_10, label=\"Cm244\")\n",
    "\n",
    "pyplot.plot(time, cm245+cm245_10, label=\"Cm245\")\n",
    "\n",
    "\n",
    "pyplot.xlabel(\"Time [d]\")\n",
    "pyplot.ylabel(\"Number of atoms of MAs (Overall FA)\");\n",
    "pyplot.legend()"
   ]
  },
  {
   "cell_type": "code",
   "execution_count": 64,
   "id": "0d70d1ae",
   "metadata": {},
   "outputs": [
    {
     "name": "stdout",
     "output_type": "stream",
     "text": [
      "[5.96942309e+05 2.99544753e+19 1.45182895e+20 3.49308132e+20\n",
      " 6.32584722e+20 9.91183217e+20 1.42312525e+21 1.93131028e+21\n",
      " 2.50673931e+21 3.13418181e+21 3.80691784e+21 4.54798277e+21\n",
      " 5.33609969e+21 6.18283978e+21 7.07771091e+21 8.01012539e+21\n",
      " 8.96357323e+21 9.95613515e+21 1.10039324e+22 1.20698059e+22\n",
      " 1.31441254e+22]\n"
     ]
    }
   ],
   "source": [
    "print(np237)"
   ]
  },
  {
   "cell_type": "code",
   "execution_count": 65,
   "id": "a8006d07",
   "metadata": {},
   "outputs": [
    {
     "name": "stdout",
     "output_type": "stream",
     "text": [
      "[5.96942309e+05 2.85759056e+16 4.55991540e+17 2.17641871e+18\n",
      " 6.39208112e+18 1.43093334e+19 2.70594863e+19 4.55973602e+19\n",
      " 7.06783729e+19 1.02707339e+20 1.41982344e+20 1.88593962e+20\n",
      " 2.42605981e+20 3.03796708e+20 3.72000772e+20 4.46710604e+20\n",
      " 5.27515699e+20 6.13638243e+20 7.04324674e+20 7.99210444e+20\n",
      " 8.96516736e+20]\n"
     ]
    }
   ],
   "source": [
    "print(am241)"
   ]
  },
  {
   "cell_type": "code",
   "execution_count": 66,
   "id": "34b3316a",
   "metadata": {},
   "outputs": [
    {
     "name": "stdout",
     "output_type": "stream",
     "text": [
      "[5.96942309e+05 8.20980401e+14 2.89076390e+16 2.12542207e+17\n",
      " 8.38661744e+17 2.45453396e+18 5.78780125e+18 1.18221622e+19\n",
      " 2.17068079e+19 3.63256929e+19 5.76316382e+19 8.73182226e+19\n",
      " 1.25768606e+20 1.75899965e+20 2.38170802e+20 3.15700721e+20\n",
      " 4.07903413e+20 5.19370340e+20 6.48924115e+20 7.95479079e+20\n",
      " 9.66214104e+20]\n"
     ]
    }
   ],
   "source": [
    "print(am243)"
   ]
  },
  {
   "cell_type": "code",
   "execution_count": 67,
   "id": "d5b3f25f",
   "metadata": {},
   "outputs": [
    {
     "name": "stdout",
     "output_type": "stream",
     "text": [
      "[5.96942309e+05 2.10679509e+11 1.57788263e+13 1.77772494e+14\n",
      " 9.41257759e+14 3.32875495e+15 9.21832393e+15 2.15376860e+16\n",
      " 4.42562454e+16 8.25057570e+16 1.41984340e+17 2.32863049e+17\n",
      " 3.58129953e+17 5.30817279e+17 7.63449765e+17 1.06066896e+18\n",
      " 1.43513275e+18 1.90008903e+18 2.45596150e+18 3.11592119e+18\n",
      " 3.90277362e+18]\n"
     ]
    }
   ],
   "source": [
    "print(cm243)"
   ]
  },
  {
   "cell_type": "code",
   "execution_count": 68,
   "id": "d800d131",
   "metadata": {},
   "outputs": [
    {
     "name": "stdout",
     "output_type": "stream",
     "text": [
      "[5.96942309e+05 5.51467900e+12 4.13999597e+14 4.71437910e+15\n",
      " 2.52094493e+16 9.27923401e+16 2.68879460e+17 6.53153400e+17\n",
      " 1.39261965e+18 2.66834728e+18 4.76617514e+18 8.01594631e+18\n",
      " 1.28343440e+19 1.97621988e+19 2.93115361e+19 4.23548207e+19\n",
      " 5.92618057e+19 8.12258566e+19 1.09010283e+20 1.42598036e+20\n",
      " 1.84856581e+20]\n"
     ]
    }
   ],
   "source": [
    "print(cm244)"
   ]
  },
  {
   "cell_type": "code",
   "execution_count": 69,
   "id": "aefbc250",
   "metadata": {},
   "outputs": [
    {
     "name": "stdout",
     "output_type": "stream",
     "text": [
      "[5.96942309e+05 1.04346420e+10 1.59007022e+12 2.75789087e+13\n",
      " 1.96903880e+14 9.17056236e+14 3.21922726e+15 9.08344514e+15\n",
      " 2.24555840e+16 4.92173567e+16 9.74932805e+16 1.84488893e+17\n",
      " 3.22450063e+17 5.40078232e+17 8.66078114e+17 1.34056713e+18\n",
      " 2.02200758e+18 2.93532696e+18 4.23303375e+18 5.92353600e+18\n",
      " 8.05684332e+18]\n"
     ]
    }
   ],
   "source": [
    "print(cm245)"
   ]
  },
  {
   "cell_type": "code",
   "execution_count": 70,
   "id": "5c8422d7",
   "metadata": {},
   "outputs": [],
   "source": [
    "Overall_np237= np237+np237_10\n",
    "Overall_am241= am241+am241_10\n",
    "Overall_am243= am243+am243_10\n",
    "Overall_cm243= cm243+cm243_10\n",
    "Overall_cm244= cm244+cm245_10\n",
    "Overall_cm245= cm245+cm245_10"
   ]
  },
  {
   "cell_type": "code",
   "execution_count": 71,
   "id": "748583df",
   "metadata": {},
   "outputs": [
    {
     "name": "stdout",
     "output_type": "stream",
     "text": [
      "[2.73905679e+23 2.67792636e+23 2.61800033e+23 2.56023848e+23\n",
      " 2.50430622e+23 2.45073307e+23 2.39884545e+23 2.34832132e+23\n",
      " 2.29976678e+23 2.25333048e+23 2.20791495e+23 2.16425950e+23\n",
      " 2.12244932e+23 2.08136174e+23 2.04199851e+23 2.00318862e+23\n",
      " 1.96586028e+23 1.93029780e+23 1.89628273e+23 1.86364980e+23\n",
      " 1.83146110e+23]\n"
     ]
    }
   ],
   "source": [
    "print(Overall_np237)"
   ]
  },
  {
   "cell_type": "code",
   "execution_count": 72,
   "id": "4ba0d322",
   "metadata": {},
   "outputs": [
    {
     "name": "stdout",
     "output_type": "stream",
     "text": [
      "[1.26527760e+23 1.15675810e+23 1.05584863e+23 9.64168446e+22\n",
      " 8.79941938e+22 8.02957237e+22 7.32183853e+22 6.68444619e+22\n",
      " 6.09669775e+22 5.56075872e+22 5.06846410e+22 4.61735031e+22\n",
      " 4.21005359e+22 3.83851635e+22 3.50132114e+22 3.19036134e+22\n",
      " 2.90770451e+22 2.65441177e+22 2.42442362e+22 2.21838762e+22\n",
      " 2.02908976e+22]\n"
     ]
    }
   ],
   "source": [
    "print(Overall_am241)"
   ]
  },
  {
   "cell_type": "code",
   "execution_count": 73,
   "id": "3769a967",
   "metadata": {},
   "outputs": [
    {
     "name": "stdout",
     "output_type": "stream",
     "text": [
      "[5.70383058e+22 5.50351547e+22 5.31295752e+22 5.12790740e+22\n",
      " 4.95382135e+22 4.79056339e+22 4.63108343e+22 4.47853031e+22\n",
      " 4.33081888e+22 4.18816839e+22 4.05031541e+22 3.91978049e+22\n",
      " 3.79685453e+22 3.67912365e+22 3.56438514e+22 3.45239914e+22\n",
      " 3.34818683e+22 3.24643472e+22 3.15421110e+22 3.06925562e+22\n",
      " 2.98808677e+22]\n"
     ]
    }
   ],
   "source": [
    "print(Overall_am243)"
   ]
  },
  {
   "cell_type": "code",
   "execution_count": 74,
   "id": "c99f32a5",
   "metadata": {},
   "outputs": [
    {
     "name": "stdout",
     "output_type": "stream",
     "text": [
      "[1.42595760e+20 1.47495513e+20 1.76199309e+20 2.23488665e+20\n",
      " 2.85015145e+20 3.54287808e+20 4.26008986e+20 5.01769710e+20\n",
      " 5.78822740e+20 6.48588224e+20 7.16941620e+20 7.82885626e+20\n",
      " 8.44543583e+20 8.99181619e+20 9.46637429e+20 9.91448589e+20\n",
      " 1.03007558e+21 1.06334069e+21 1.08911370e+21 1.10793226e+21\n",
      " 1.11975934e+21]\n"
     ]
    }
   ],
   "source": [
    "print(Overall_cm243)"
   ]
  },
  {
   "cell_type": "code",
   "execution_count": 75,
   "id": "c4f275d1",
   "metadata": {},
   "outputs": [
    {
     "name": "stdout",
     "output_type": "stream",
     "text": [
      "[1.22572352e+21 1.45093523e+21 1.68226017e+21 1.93081414e+21\n",
      " 2.18078782e+21 2.43362354e+21 2.69333665e+21 2.96157209e+21\n",
      " 3.23396786e+21 3.50194363e+21 3.74936287e+21 4.00568241e+21\n",
      " 4.25439819e+21 4.52880398e+21 4.80171674e+21 5.06704557e+21\n",
      " 5.36175395e+21 5.60004835e+21 5.87525090e+21 6.16536606e+21\n",
      " 6.44512898e+21]\n"
     ]
    }
   ],
   "source": [
    "print(Overall_cm244)"
   ]
  },
  {
   "cell_type": "code",
   "execution_count": 76,
   "id": "848cfa5b",
   "metadata": {},
   "outputs": [
    {
     "name": "stdout",
     "output_type": "stream",
     "text": [
      "[1.22572352e+21 1.45093523e+21 1.68225976e+21 1.93080945e+21\n",
      " 2.18076281e+21 2.43353167e+21 2.69307099e+21 2.96092802e+21\n",
      " 3.23259770e+21 3.49932450e+21 3.74469418e+21 3.99785095e+21\n",
      " 4.24188630e+21 4.50958186e+21 4.77327128e+21 5.02603131e+21\n",
      " 5.30451415e+21 5.52175782e+21 5.77047365e+21 6.02869156e+21\n",
      " 6.26832924e+21]\n"
     ]
    }
   ],
   "source": [
    "print(Overall_cm245)"
   ]
  },
  {
   "cell_type": "code",
   "execution_count": 77,
   "id": "81e81a5b",
   "metadata": {},
   "outputs": [
    {
     "data": {
      "text/plain": [
       "<matplotlib.legend.Legend at 0x7fede70bf5e0>"
      ]
     },
     "execution_count": 77,
     "metadata": {},
     "output_type": "execute_result"
    },
    {
     "data": {
      "image/png": "[encoded data removed]",
      "text/plain": [
       "<Figure size 640x480 with 1 Axes>"
      ]
     },
     "metadata": {},
     "output_type": "display_data"
    }
   ],
   "source": [
    "pyplot.plot(time, np237, label=\"Np237\", )\n",
    "\n",
    "pyplot.plot(time, am241, label=\"Am241\")\n",
    "\n",
    "pyplot.plot(time, am243, label=\"Am243\")\n",
    "\n",
    "pyplot.plot(time, cm243, label=\"Cm243\")\n",
    "\n",
    "pyplot.plot(time, cm244, label=\"Cm244\")\n",
    "\n",
    "pyplot.plot(time, cm245, label=\"Cm245\")\n",
    "\n",
    "\n",
    "pyplot.xlabel(\"Time [d]\")\n",
    "pyplot.ylabel(\"Number of atoms of MAs (TRISO cells)\");\n",
    "pyplot.legend()"
   ]
  },
  {
   "cell_type": "code",
   "execution_count": 78,
   "id": "3187dea8",
   "metadata": {},
   "outputs": [
    {
     "data": {
      "text/plain": [
       "<matplotlib.legend.Legend at 0x7fede7512eb0>"
      ]
     },
     "execution_count": 78,
     "metadata": {},
     "output_type": "execute_result"
    },
    {
     "data": {
      "image/png": "[encoded data removed]",
      "text/plain": [
       "<Figure size 640x480 with 1 Axes>"
      ]
     },
     "metadata": {},
     "output_type": "display_data"
    }
   ],
   "source": [
    "\n",
    "pyplot.plot(time, np237_10, label=\"Np237\", )\n",
    "\n",
    "pyplot.plot(time, am241_10, label=\"Am241\")\n",
    "\n",
    "pyplot.plot(time, am243_10, label=\"Am243\")\n",
    "\n",
    "pyplot.plot(time, cm243_10, label=\"Cm243\")\n",
    "\n",
    "pyplot.plot(time, cm244_10, label=\"Cm244\")\n",
    "\n",
    "pyplot.plot(time, cm245_10, label=\"Cm245\")\n",
    "\n",
    "\n",
    "pyplot.xlabel(\"Time [d]\")\n",
    "pyplot.ylabel(\"Number of atoms of MAs in 3 rings (TRISO + 2 % MA cells)\");\n",
    "pyplot.legend()"
   ]
  },
  {
   "cell_type": "code",
   "execution_count": 79,
   "id": "8c3ede1f",
   "metadata": {},
   "outputs": [
    {
     "data": {
      "text/plain": [
       "<matplotlib.legend.Legend at 0x7feddbf46670>"
      ]
     },
     "execution_count": 79,
     "metadata": {},
     "output_type": "execute_result"
    },
    {
     "data": {
      "image/png": "[encoded data removed]",
      "text/plain": [
       "<Figure size 640x480 with 1 Axes>"
      ]
     },
     "metadata": {},
     "output_type": "display_data"
    }
   ],
   "source": [
    "# Minor actinide (MA) composition\n",
    "\n",
    "# MA = openmc.Material(name = 'Minor Actinides')\n",
    "# MA.add_nuclide('Np237', 0.562, 'wo')\n",
    "# MA.add_nuclide('Am241', 0.264, 'wo')\n",
    "# MA.add_nuclide('Am243', 0.12, 'wo')\n",
    "# MA.add_nuclide('Cm243', 0.0003, 'wo')\n",
    "# MA.add_nuclide('Cm244', 0.0511, 'wo')\n",
    "# MA.add_nuclide('Cm245', 0.0026, 'wo')\n",
    "# MA.set_density('g/cm3', 15.43)\n",
    "\n",
    "_, np237 = results.get_atoms(\"10\",\"Np237\")\n",
    "_, am241 = results.get_atoms(\"10\",\"Am241\")\n",
    "_, am243 = results.get_atoms(\"10\", \"Am243\")\n",
    "_, cm243 = results.get_atoms(\"10\",\"Cm243\")\n",
    "_, cm244 = results.get_atoms(\"10\",\"Cm244\")\n",
    "_, cm245 = results.get_atoms(\"10\", \"Cm245\")\n",
    "\n",
    "\n",
    "pyplot.plot(time, np237, label=\"Np237\", )\n",
    "\n",
    "pyplot.plot(time, am241, label=\"Am241\")\n",
    "\n",
    "pyplot.plot(time, am243, label=\"Am243\")\n",
    "\n",
    "\n",
    "pyplot.plot(time, cm243, label=\"Cm243\")\n",
    "\n",
    "pyplot.plot(time, cm244, label=\"Cm244\")\n",
    "\n",
    "\n",
    "pyplot.plot(time, cm245, label=\"Cm245\")\n",
    "\n",
    "\n",
    "pyplot.xlabel(\"Time [d]\")\n",
    "pyplot.ylabel(\"Number of atoms of MAs \");\n",
    "pyplot.legend()\n"
   ]
  },
  {
   "cell_type": "code",
   "execution_count": 80,
   "id": "c333e2ab",
   "metadata": {},
   "outputs": [
    {
     "data": {
      "image/png": "[encoded data removed]",
      "text/plain": [
       "<Figure size 640x480 with 1 Axes>"
      ]
     },
     "metadata": {},
     "output_type": "display_data"
    }
   ],
   "source": [
    "pyplot.plot(time, np237+am241+am243+cm243+cm244+cm245)\n",
    "\n",
    "\n",
    "pyplot.xlabel(\"Time [d]\")\n",
    "pyplot.ylabel(\"Total no. of atoms of all MAs \");"
   ]
  },
  {
   "cell_type": "code",
   "execution_count": 81,
   "id": "e89baa8c",
   "metadata": {},
   "outputs": [
    {
     "name": "stdout",
     "output_type": "stream",
     "text": [
      "[2.73905679e+23 2.67762681e+23 2.61654850e+23 2.55674540e+23\n",
      " 2.49798038e+23 2.44082124e+23 2.38461419e+23 2.32900822e+23\n",
      " 2.27469939e+23 2.22198867e+23 2.16984577e+23 2.11877968e+23\n",
      " 2.06908833e+23 2.01953334e+23 1.97122140e+23 1.92308737e+23\n",
      " 1.87622455e+23 1.83073644e+23 1.78624340e+23 1.74295174e+23\n",
      " 1.70001984e+23]\n"
     ]
    }
   ],
   "source": [
    "print(np237)"
   ]
  },
  {
   "cell_type": "code",
   "execution_count": 82,
   "id": "d404d693",
   "metadata": {},
   "outputs": [
    {
     "name": "stdout",
     "output_type": "stream",
     "text": [
      "[1.26527760e+23 1.15675782e+23 1.05584407e+23 9.64146682e+22\n",
      " 8.79878018e+22 8.02814144e+22 7.31913258e+22 6.67988645e+22\n",
      " 6.08962991e+22 5.55048798e+22 5.05426586e+22 4.59849091e+22\n",
      " 4.18579299e+22 3.80813668e+22 3.46412106e+22 3.14569028e+22\n",
      " 2.85495294e+22 2.59304795e+22 2.35399115e+22 2.13846658e+22\n",
      " 1.93943808e+22]\n"
     ]
    }
   ],
   "source": [
    "print(am241)"
   ]
  },
  {
   "cell_type": "code",
   "execution_count": 83,
   "id": "f7f49d2c",
   "metadata": {},
   "outputs": [
    {
     "name": "stdout",
     "output_type": "stream",
     "text": [
      "[5.70383058e+22 5.50351539e+22 5.31295463e+22 5.12788615e+22\n",
      " 4.95373749e+22 4.79031794e+22 4.63050465e+22 4.47734810e+22\n",
      " 4.32864820e+22 4.18453582e+22 4.04455224e+22 3.91104867e+22\n",
      " 3.78427767e+22 3.66153366e+22 3.54056806e+22 3.42082907e+22\n",
      " 3.30739649e+22 3.19449769e+22 3.08931869e+22 2.98970772e+22\n",
      " 2.89146536e+22]\n"
     ]
    }
   ],
   "source": [
    "print(am243)"
   ]
  },
  {
   "cell_type": "code",
   "execution_count": 84,
   "id": "7a407884",
   "metadata": {},
   "outputs": [
    {
     "name": "stdout",
     "output_type": "stream",
     "text": [
      "[1.42595760e+20 1.47495513e+20 1.76199293e+20 2.23488487e+20\n",
      " 2.85014204e+20 3.54284479e+20 4.25999768e+20 5.01748172e+20\n",
      " 5.78778484e+20 6.48505718e+20 7.16799636e+20 7.82652763e+20\n",
      " 8.44185453e+20 8.98650801e+20 9.45873979e+20 9.90387920e+20\n",
      " 1.02864044e+21 1.06144060e+21 1.08665774e+21 1.10481633e+21\n",
      " 1.11585657e+21]\n"
     ]
    }
   ],
   "source": [
    "print(cm243)"
   ]
  },
  {
   "cell_type": "code",
   "execution_count": 85,
   "id": "b31e2503",
   "metadata": {},
   "outputs": [
    {
     "name": "stdout",
     "output_type": "stream",
     "text": [
      "[2.41891568e+22 2.58276253e+22 2.74158520e+22 2.89631399e+22\n",
      " 3.04207640e+22 3.17815709e+22 3.30926334e+22 3.43295607e+22\n",
      " 3.55077396e+22 3.66399652e+22 3.77383599e+22 3.87686644e+22\n",
      " 3.97214362e+22 4.05967606e+22 4.14462306e+22 4.22813680e+22\n",
      " 4.30135607e+22 4.37810560e+22 4.44253258e+22 4.49921266e+22\n",
      " 4.55521720e+22]\n"
     ]
    }
   ],
   "source": [
    "print(cm244)"
   ]
  },
  {
   "cell_type": "code",
   "execution_count": 86,
   "id": "2b83d690",
   "metadata": {},
   "outputs": [
    {
     "name": "stdout",
     "output_type": "stream",
     "text": [
      "[1.22572352e+21 1.45093523e+21 1.68225975e+21 1.93080942e+21\n",
      " 2.18076261e+21 2.43353075e+21 2.69306777e+21 2.96091894e+21\n",
      " 3.23257524e+21 3.49927528e+21 3.74459669e+21 3.99766646e+21\n",
      " 4.24156385e+21 4.50904178e+21 4.77240520e+21 5.02469075e+21\n",
      " 5.30249215e+21 5.51882249e+21 5.76624061e+21 6.02276802e+21\n",
      " 6.26027240e+21]\n"
     ]
    }
   ],
   "source": [
    "print(cm245)"
   ]
  },
  {
   "cell_type": "code",
   "execution_count": 87,
   "id": "a5f569b8",
   "metadata": {},
   "outputs": [
    {
     "name": "stdout",
     "output_type": "stream",
     "text": [
      "Initial MA amount in the fuel element: \n",
      "\n",
      "Np-237 107.77958797681809 g\n",
      "Am-241 50.627910130689514 g\n",
      "Am-243 23.01230004484302 g\n",
      "Cm-243 0.05753074835111709 g\n",
      "Cm-244 9.799359541100937 g\n",
      "Cm-245 0.49859249774401604 g\n",
      "\n",
      "Final MA amount in the fuel element: \n",
      "\n",
      "Np-237 66.89435546102443 g\n",
      "Am-241 7.760328370813993 g\n",
      "Am-243 11.66571612977838 g\n",
      "Cm-243 0.45019615810575964 g\n",
      "Cm-244 18.453810358857417 g\n",
      "Cm-245 2.546516251025209 g\n"
     ]
    }
   ],
   "source": [
    "print('Initial MA amount in the fuel element: \\n')\n",
    "print('Np-237',(np237[0])*237/6.023e23,'g')\n",
    "print('Am-241',(am241[0])*241/6.023e23,'g')\n",
    "print('Am-243',(am243[0])*243/6.023e23,'g')\n",
    "print('Cm-243',(cm243[0])*243/6.023e23,'g')\n",
    "print('Cm-244',(cm244[0])*244/6.023e23,'g')\n",
    "print('Cm-245',(cm245[0])*245/6.023e23,'g')\n",
    "\n",
    "print('\\nFinal MA amount in the fuel element: \\n')\n",
    "print('Np-237',(np237[-1])*237/6.023e23,'g')\n",
    "print('Am-241',(am241[-1])*241/6.023e23,'g')\n",
    "print('Am-243',(am243[-1])*243/6.023e23,'g')\n",
    "print('Cm-243',(cm243[-1])*243/6.023e23,'g')\n",
    "print('Cm-244',(cm244[-1])*244/6.023e23,'g')\n",
    "print('Cm-245',(cm245[-1])*245/6.023e23,'g')"
   ]
  },
  {
   "cell_type": "code",
   "execution_count": 88,
   "id": "10021844",
   "metadata": {},
   "outputs": [
    {
     "name": "stdout",
     "output_type": "stream",
     "text": [
      "Change in MA amount in the fuel element: \n",
      "\n",
      "Np-237 -40.88523251579365 g\n",
      "Am-241 -42.86758175987553 g\n",
      "Am-243 -11.346583915064642 g\n",
      "Cm-243 0.3926654097546425 g\n",
      "Cm-244 8.654450817756478 g\n",
      "Cm-245 2.0479237532811934 g\n",
      "\n",
      "Transmutation rates: \n",
      "\n",
      "Np-237 23.076586436562305 % per year\n",
      "Am-241 51.50870110302361 % per year\n",
      "Am-243 29.99485145573046 % per year\n",
      "Cm-243 -415.2065885583124 % per year\n",
      "Cm-244 -53.72586741055225 % per year\n",
      "Cm-245 -249.86743460501884 % per year\n"
     ]
    }
   ],
   "source": [
    "print('Change in MA amount in the fuel element: \\n')\n",
    "print('Np-237',(np237[-1]-np237[0])*237/6.023e23,'g')\n",
    "print('Am-241',(am241[-1]-am241[0])*241/6.023e23,'g')\n",
    "print('Am-243',(am243[-1]-am243[0])*243/6.023e23,'g')\n",
    "print('Cm-243',(cm243[-1]-cm243[0])*243/6.023e23,'g')\n",
    "print('Cm-244',(cm244[-1]-cm244[0])*244/6.023e23,'g')\n",
    "print('Cm-245',(cm245[-1]-cm245[0])*245/6.023e23,'g')\n",
    "\n",
    "print('\\nTransmutation rates: \\n')\n",
    "print('Np-237',(np237[0]-np237[-1])*365*100/(np237[0]*time[-1]),'% per year')\n",
    "print('Am-241',(am241[0]-am241[-1])*365*100/(am241[0]*time[-1]),'% per year')\n",
    "print('Am-243',(am243[0]-am243[-1])*365*100/(am243[0]*time[-1]),'% per year')\n",
    "print('Cm-243',(cm243[0]-cm243[-1])*365*100/(cm243[0]*time[-1]),'% per year')\n",
    "print('Cm-244',(cm244[0]-cm244[-1])*365*100/(cm244[0]*time[-1]),'% per year')\n",
    "print('Cm-245',(cm245[0]-cm245[-1])*365*100/(cm245[0]*time[-1]),'% per year')"
   ]
  },
  {
   "cell_type": "code",
   "execution_count": null,
   "id": "ef6fd74e",
   "metadata": {},
   "outputs": [],
   "source": []
  }
 ],
 "metadata": {
  "kernelspec": {
   "display_name": "Python 3 (ipykernel)",
   "language": "python",
   "name": "python3"
  },
  "language_info": {
   "codemirror_mode": {
    "name": "ipython",
    "version": 3
   },
   "file_extension": ".py",
   "mimetype": "text/x-python",
   "name": "python",
   "nbconvert_exporter": "python",
   "pygments_lexer": "ipython3",
   "version": "3.9.16"
  }
 },
 "nbformat": 4,
 "nbformat_minor": 5
}
